{
 "cells": [
  {
   "cell_type": "code",
   "execution_count": 1,
   "id": "b114713c-2a89-4cca-a0b1-15c4dabf4f17",
   "metadata": {},
   "outputs": [
    {
     "name": "stdout",
     "output_type": "stream",
     "text": [
      "{2, 3, 4, 5, 6, 7}\n"
     ]
    }
   ],
   "source": [
    "list1 = [2,3,4,5,6,7,2,3,4,5,6,7]\n",
    "print(set(list1))"
   ]
  },
  {
   "cell_type": "code",
   "execution_count": 4,
   "id": "e181b286-7fcf-48d4-a785-ccf111d36c36",
   "metadata": {},
   "outputs": [
    {
     "name": "stdout",
     "output_type": "stream",
     "text": [
      "{0, 1, 2, 7, 8, 9}\n"
     ]
    }
   ],
   "source": [
    "list2 = [7,8,9,0,1,2,7,8,9,0,1,2]\n",
    "print(set(list(list2)))"
   ]
  },
  {
   "cell_type": "code",
   "execution_count": 6,
   "id": "ade2ec09-3b50-4c6f-988b-b37a3f399b27",
   "metadata": {},
   "outputs": [
    {
     "name": "stdout",
     "output_type": "stream",
     "text": [
      "{2, 3, 4, 5, 6, 7, 8, 9}\n"
     ]
    }
   ],
   "source": [
    "l = [2,3,4,5,6,2,3,4,5,6]\n",
    "l1 =[9,8,7,6,5,4,9,8,7,6,5,4]\n",
    "\n",
    "result = set(l).union(l1)\n",
    "print(result)"
   ]
  },
  {
   "cell_type": "code",
   "execution_count": 7,
   "id": "f3b68621-6c21-4d3c-82e2-1959eb2058e8",
   "metadata": {},
   "outputs": [
    {
     "name": "stdout",
     "output_type": "stream",
     "text": [
      "{4, 5, 6}\n"
     ]
    }
   ],
   "source": [
    "result1 = set(l).intersection(l1)\n",
    "print(result1)"
   ]
  },
  {
   "cell_type": "code",
   "execution_count": 11,
   "id": "57ed36eb-7c84-467d-9656-7fb02ea6e95d",
   "metadata": {},
   "outputs": [
    {
     "name": "stdout",
     "output_type": "stream",
     "text": [
      "[1, 2, 3, 4, 5, 6, 7, 8, 9]\n"
     ]
    }
   ],
   "source": [
    "t = [1,2,3,4,5,6,7,8,9,1,2,3,4,5,6,7,8,9]\n",
    "r = []\n",
    "for i in t:\n",
    "    if i not in r:\n",
    "        r.append(i)\n",
    "print(r)\n",
    "        "
   ]
  },
  {
   "cell_type": "code",
   "execution_count": 12,
   "id": "c6bd7fc6-d1a4-43fa-b90e-96d75149f301",
   "metadata": {},
   "outputs": [
    {
     "name": "stdout",
     "output_type": "stream",
     "text": [
      "[1, 2, 3, 4, 5, 6, 7, 8, 9]\n"
     ]
    }
   ],
   "source": [
    "t = [1,2,3,4,5,6,7,8,9,1,2,3,4,5,6,7,8,9]\n",
    "r = []\n",
    "for i in t:\n",
    "    if i not in r:\n",
    "        r.append(i)\n",
    "print(r)"
   ]
  },
  {
   "cell_type": "code",
   "execution_count": 14,
   "id": "27fd4de5-2d2a-47b1-a005-2b633a949b67",
   "metadata": {},
   "outputs": [
    {
     "name": "stdout",
     "output_type": "stream",
     "text": [
      "[6, 5, 4, 3, 2, 1]\n"
     ]
    }
   ],
   "source": [
    "l = [1,2,3,4,5,6]\n",
    "r = l[::-1]\n",
    "print(r)"
   ]
  },
  {
   "cell_type": "code",
   "execution_count": 16,
   "id": "94b223ef-37f4-4705-abeb-f1f02b6bf84f",
   "metadata": {},
   "outputs": [
    {
     "name": "stdout",
     "output_type": "stream",
     "text": [
      "{0, 2, 3, 4, 5, 8, 9}\n"
     ]
    }
   ],
   "source": [
    "d = [2,3,3,4,4,5,8,4,9,0,0]\n",
    "d0 = set(d)\n",
    "print(d0)\n"
   ]
  },
  {
   "cell_type": "code",
   "execution_count": 19,
   "id": "b3abac27-d13d-4677-aab1-cf25bf3a7e98",
   "metadata": {},
   "outputs": [
    {
     "name": "stdout",
     "output_type": "stream",
     "text": [
      "HELLOW WORLD PYTHON\n"
     ]
    }
   ],
   "source": [
    "C = 'hellow world python'\n",
    "print(C.upper())"
   ]
  },
  {
   "cell_type": "code",
   "execution_count": 20,
   "id": "62cb16fd-1006-40fc-a1c1-8da3fca1b3b5",
   "metadata": {},
   "outputs": [
    {
     "name": "stdout",
     "output_type": "stream",
     "text": [
      "Hellow World Python\n"
     ]
    }
   ],
   "source": [
    "C = 'hellow world python'\n",
    "capa_C = C.title()\n",
    "print(capa_C)"
   ]
  },
  {
   "cell_type": "code",
   "execution_count": 23,
   "id": "878fc89e-6ac7-4388-8edd-3519ce19ab79",
   "metadata": {},
   "outputs": [
    {
     "name": "stdout",
     "output_type": "stream",
     "text": [
      "89\n"
     ]
    }
   ],
   "source": [
    "m = [3,4,5,60,89,31]\n",
    "largest = max(m)\n",
    "print(largest)"
   ]
  },
  {
   "cell_type": "code",
   "execution_count": 24,
   "id": "04207137-acf2-4abc-a6b7-5913955b391a",
   "metadata": {},
   "outputs": [
    {
     "name": "stdout",
     "output_type": "stream",
     "text": [
      "-89\n"
     ]
    }
   ],
   "source": [
    "m0 = [4,5,6,1,4,5,-1,-89]\n",
    "smallest = min(m0)\n",
    "print('smallest',smallest)"
   ]
  },
  {
   "cell_type": "code",
   "execution_count": null,
   "id": "3f264183-7864-4f9b-93aa-be7d1736313f",
   "metadata": {},
   "outputs": [],
   "source": []
  }
 ],
 "metadata": {
  "kernelspec": {
   "display_name": "Python [conda env:jay]",
   "language": "python",
   "name": "conda-env-jay-py"
  },
  "language_info": {
   "codemirror_mode": {
    "name": "ipython",
    "version": 3
   },
   "file_extension": ".py",
   "mimetype": "text/x-python",
   "name": "python",
   "nbconvert_exporter": "python",
   "pygments_lexer": "ipython3",
   "version": "3.12.7"
  }
 },
 "nbformat": 4,
 "nbformat_minor": 5
}
